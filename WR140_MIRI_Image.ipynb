{
 "cells": [
  {
   "attachments": {},
   "cell_type": "markdown",
   "id": "c58a3bad",
   "metadata": {},
   "source": [
    "## Image generation for WR-140\n",
    "\n",
    "Credit: [WR-DustERS](https://www.stsci.edu/jwst/science-execution/approved-programs/dd-ers/program-1349), ERS 1349, PI - R. Lau\n",
    "\n",
    "This notebook takes input from the JWST MIRI instriment and uses `astropy.visualization` to render an image of the WR-140 binary showing generated dust rings. For more details see:\n",
    " - DustERS team site https://www.ir.isas.jaxa.jp/~ryanlau/WRDustERS/index.html\n",
    " - Nature publication https://www.nature.com/natastron/volumes/6/issues/11"
   ]
  },
  {
   "cell_type": "code",
   "execution_count": null,
   "id": "4d69ee82",
   "metadata": {},
   "outputs": [],
   "source": [
    "import sys\n",
    "!{sys.executable} -m pip install astropy reproject matplotlib\n",
    "import astropy\n",
    "from astropy.io import fits\n",
    "from astropy.stats import sigma_clipped_stats\n",
    "from reproject import reproject_interp\n",
    "from reproject.mosaicking import find_optimal_celestial_wcs\n",
    "import numpy as np\n",
    "from astropy.visualization import make_lupton_rgb\n",
    "%matplotlib inline\n",
    "import matplotlib.pyplot as plt"
   ]
  },
  {
   "cell_type": "code",
   "execution_count": null,
   "id": "93516f8b",
   "metadata": {},
   "outputs": [],
   "source": [
    "#Testing False color image maker\n",
    "\n",
    "WR140_F21 = fits.open('/workspaces/dusters-wr-140/Lauetal2022_MIRI_Imager_Data/miri_f2100w_WR140_2022.fits')\n",
    "WR140_F15 = fits.open('/workspaces/dusters-wr-140/Lauetal2022_MIRI_Imager_Data/miri_f1500w_WR140_2022.fits')\n",
    "WR140_F7 = fits.open('/workspaces/dusters-wr-140/Lauetal2022_MIRI_Imager_Data/miri_f770w_WR140_2022.fits')\n",
    "\n",
    "\n",
    "\n",
    "WR140data_r = WR140_F21[1].data\n",
    "WR140data_g = WR140_F15[1].data\n",
    "WR140data_b = WR140_F7[1].data\n",
    "\n",
    "\n",
    "_,med_r,std_r = sigma_clipped_stats(WR140data_r, mask_value = 0.0)\n",
    "_,med_g,std_g = sigma_clipped_stats(WR140data_g, mask_value = 0.0)\n",
    "_,med_b,std_b = sigma_clipped_stats(WR140data_b, mask_value = 0.0)\n",
    "\n",
    "#Optimal WCS Coords\n",
    "wcsWR140Im,_ = find_optimal_celestial_wcs([WR140_F7[1]])\n",
    "\n",
    "WR140data_r = reproject_interp(WR140_F21[1], wcsWR140Im,shape_out = np.shape(WR140data_r))[0]\n",
    "WR140data_g = reproject_interp(WR140_F15[1], wcsWR140Im,shape_out = np.shape(WR140data_g))[0]\n",
    "WR140data_b = reproject_interp(WR140_F7[1], wcsWR140Im,shape_out = np.shape(WR140data_b))[0]\n",
    "\n"
   ]
  },
  {
   "cell_type": "code",
   "execution_count": null,
   "id": "b77e4617",
   "metadata": {},
   "outputs": [],
   "source": [
    "image_r = WR140data_r - med_r\n",
    "image_g = WR140data_g - med_g\n",
    "image_b = WR140data_b - med_b\n",
    "#Nan to 0\n",
    "image_r[np.isnan(image_r)] = 0\n",
    "image_g[np.isnan(image_g)] = 0\n",
    "image_b[np.isnan(image_b)] = 0\n",
    "#Get rid of negative values?\n",
    "image_r[image_r<0] = 0\n",
    "image_g[image_g<0] = 0\n",
    "image_b[image_b<0] = 0\n",
    "\n",
    "tlsize = 14\n",
    "alsize = 14\n",
    "\n",
    "\n",
    "image = make_lupton_rgb(image_r, image_g, image_b, stretch=8.,minimum = 0.)\n",
    "\n",
    "#image = make_lupton_rgb(F21_dec, F15_dec*0.8, F7_dec, stretch=10.,minimum = 0.)\n",
    "\n",
    "fig = plt.figure(figsize=(10, 10))\n",
    "ax = plt.subplot()\n",
    "WRplot = ax.imshow(image, origin = 'lower')\n",
    "\n",
    "cx = 477\n",
    "cy = 635\n",
    "bdelt = 400\n",
    "bdelt2 = 400\n",
    "\n",
    "\n",
    "\n",
    "x1, x2, y1, y2 = cx-bdelt, cx+bdelt, cy-bdelt2,cy+bdelt2\n",
    "ax.set_xlim(x1, x2)\n",
    "ax.set_ylim(y1, y2)\n",
    "\n",
    "plt.show()"
   ]
  }
 ],
 "metadata": {
  "kernelspec": {
   "display_name": "Python 3 (ipykernel)",
   "language": "python",
   "name": "python3"
  },
  "language_info": {
   "codemirror_mode": {
    "name": "ipython",
    "version": 3
   },
   "file_extension": ".py",
   "mimetype": "text/x-python",
   "name": "python",
   "nbconvert_exporter": "python",
   "pygments_lexer": "ipython3",
   "version": "3.8.10"
  }
 },
 "nbformat": 4,
 "nbformat_minor": 5
}
